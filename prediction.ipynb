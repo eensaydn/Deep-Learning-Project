{
 "cells": [
  {
   "cell_type": "code",
   "execution_count": 45,
   "id": "4503e9eb",
   "metadata": {},
   "outputs": [],
   "source": [
    "import numpy as np\n",
    "import tensorflow as tf\n",
    "from tensorflow.keras.datasets import imdb\n",
    "from tensorflow.keras.preprocessing import sequence\n",
    "from tensorflow.keras.models import Sequential\n",
    "from tensorflow.keras.layers import Embedding,SimpleRNN,Dense\n",
    "from tensorflow.keras.models import load_model\n"
   ]
  },
  {
   "cell_type": "code",
   "execution_count": 46,
   "id": "e3dd7c10",
   "metadata": {},
   "outputs": [],
   "source": [
    "#Load the IMDB dataset word index\n",
    "word_index = imdb.get_word_index()\n",
    "reverse_word_index = {value: key for key, value in word_index.items()}"
   ]
  },
  {
   "cell_type": "code",
   "execution_count": 47,
   "id": "8e7d3992",
   "metadata": {},
   "outputs": [
    {
     "name": "stderr",
     "output_type": "stream",
     "text": [
      "WARNING:absl:Compiled the loaded model, but the compiled metrics have yet to be built. `model.compile_metrics` will be empty until you train or evaluate the model.\n"
     ]
    }
   ],
   "source": [
    "#Load the pre-trained model with ReLu activation\n",
    "model = load_model('model_simple_rnn_imdb.h5')"
   ]
  },
  {
   "cell_type": "code",
   "execution_count": 48,
   "id": "c622ec48",
   "metadata": {},
   "outputs": [
    {
     "data": {
      "text/plain": [
       "[array([[ 0.46864972,  0.6744185 ,  0.40976146, ..., -0.3563915 ,\n",
       "         -0.6066965 ,  0.38357395],\n",
       "        [ 0.04238988,  0.05550054,  0.02550061, ...,  0.04183751,\n",
       "         -0.05971652,  0.02436956],\n",
       "        [-0.0010457 ,  0.098997  , -0.03841015, ...,  0.05839592,\n",
       "         -0.16377985, -0.0762426 ],\n",
       "        ...,\n",
       "        [-0.03599384, -0.01226247,  0.03633907, ..., -0.01044807,\n",
       "          0.00557716,  0.02285995],\n",
       "        [ 0.08361854, -0.01834268, -0.0016781 , ..., -0.00186811,\n",
       "         -0.00882588,  0.10952789],\n",
       "        [-0.09983944, -0.13902779, -0.12286876, ...,  0.16381723,\n",
       "          0.14720294, -0.16963649]], dtype=float32),\n",
       " array([[-0.1019808 , -0.04695907,  0.02137246, ...,  0.14881556,\n",
       "         -0.02619204,  0.03805319],\n",
       "        [-0.14757924, -0.04912044, -0.00864628, ...,  0.15807097,\n",
       "         -0.07777619, -0.10142332],\n",
       "        [ 0.08023743, -0.0214467 ,  0.13423945, ...,  0.12330446,\n",
       "          0.07326909,  0.0849378 ],\n",
       "        ...,\n",
       "        [-0.15716302, -0.18275945,  0.12955573, ...,  0.03209406,\n",
       "         -0.03252586, -0.08451775],\n",
       "        [ 0.07286002,  0.06191625, -0.01401391, ...,  0.03331398,\n",
       "          0.09561501, -0.09250159],\n",
       "        [-0.05541866,  0.03625289,  0.04015329, ...,  0.07503354,\n",
       "         -0.03578926,  0.08410662]], dtype=float32),\n",
       " array([[-0.02639828, -0.00409547, -0.0163414 , ...,  0.06005492,\n",
       "          0.09366424,  0.0189217 ],\n",
       "        [-0.00648286,  0.1368095 ,  0.00977951, ...,  0.14857987,\n",
       "         -0.01715327,  0.09503716],\n",
       "        [ 0.00019394, -0.1556529 , -0.02573501, ..., -0.01254188,\n",
       "         -0.09125189, -0.16945094],\n",
       "        ...,\n",
       "        [ 0.06850821,  0.02186476, -0.13674186, ...,  0.0432371 ,\n",
       "          0.18708321, -0.15453008],\n",
       "        [-0.11804893,  0.07423275, -0.09808451, ...,  0.14172123,\n",
       "         -0.1381863 , -0.02514375],\n",
       "        [ 0.15802746, -0.09243669, -0.1368921 , ...,  0.06858876,\n",
       "         -0.01535492,  0.05011339]], dtype=float32),\n",
       " array([-0.00980018, -0.01275605, -0.03270318, -0.00847003, -0.01461916,\n",
       "        -0.02127171, -0.03375855, -0.04254846, -0.03388247, -0.03203213,\n",
       "         0.01220999, -0.028322  , -0.05559955, -0.02535162, -0.02003588,\n",
       "        -0.02093631, -0.03451737,  0.01687353,  0.02647158, -0.00271305,\n",
       "        -0.00112876,  0.02964026, -0.01658757,  0.03749785, -0.01722032,\n",
       "        -0.00119647, -0.0137623 , -0.03087437, -0.01448756,  0.02417197,\n",
       "        -0.0030031 , -0.02846044, -0.02171269,  0.03441475, -0.05915004,\n",
       "         0.00107211,  0.00414046, -0.03720558,  0.00893111, -0.0183624 ,\n",
       "        -0.03607543, -0.00654462, -0.02513666, -0.03694586,  0.0115515 ,\n",
       "        -0.01116786, -0.08313104, -0.01520082, -0.03481458, -0.02382051,\n",
       "        -0.05331768,  0.0309179 , -0.03338185, -0.0286192 , -0.01428159,\n",
       "         0.00091478, -0.03678431, -0.05040013, -0.01679714,  0.05613713,\n",
       "        -0.04225736, -0.02482689, -0.0125423 ,  0.02727982, -0.01818752,\n",
       "        -0.05816482,  0.00433956, -0.02799825,  0.01800931, -0.0120026 ,\n",
       "         0.00049676, -0.03485818,  0.01177364, -0.01688716, -0.01287388,\n",
       "        -0.01960981,  0.04753144, -0.04030949, -0.01554734, -0.00422268,\n",
       "        -0.01228229, -0.00371655, -0.02941199, -0.04226304, -0.02338496,\n",
       "        -0.05012423, -0.0265356 , -0.02817263, -0.01464299, -0.01817137,\n",
       "        -0.02603059, -0.01097193, -0.00605836, -0.03236454,  0.02441898,\n",
       "        -0.02062145,  0.00579665, -0.0449904 ,  0.04689802, -0.03351486,\n",
       "        -0.02463217, -0.04384102,  0.00875032,  0.02790063, -0.01123423,\n",
       "         0.01614759,  0.04022647, -0.0116521 , -0.05838461,  0.03418467,\n",
       "         0.04121445, -0.00726926,  0.010536  , -0.03299019,  0.06405442,\n",
       "        -0.02377301,  0.05075688, -0.01512115, -0.00637909, -0.02722939,\n",
       "         0.00181632,  0.02452991, -0.03459502, -0.04057421, -0.02414783,\n",
       "         0.02528012, -0.04151722,  0.01098798], dtype=float32),\n",
       " array([[-1.62632048e-01],\n",
       "        [-1.25614524e-01],\n",
       "        [ 1.46290973e-01],\n",
       "        [ 1.56381670e-02],\n",
       "        [-4.01372463e-01],\n",
       "        [-1.47735059e-01],\n",
       "        [ 1.70290768e-02],\n",
       "        [-2.38795489e-01],\n",
       "        [ 1.83346152e-01],\n",
       "        [ 1.73062116e-01],\n",
       "        [-1.30620912e-01],\n",
       "        [ 4.57793102e-02],\n",
       "        [ 2.09662542e-01],\n",
       "        [-1.42018393e-01],\n",
       "        [-5.91543540e-02],\n",
       "        [ 1.10026695e-01],\n",
       "        [-7.10367411e-02],\n",
       "        [ 3.33984978e-02],\n",
       "        [-7.16157854e-02],\n",
       "        [-2.21269846e-01],\n",
       "        [-1.48366362e-01],\n",
       "        [-1.66694120e-01],\n",
       "        [ 1.98365688e-01],\n",
       "        [-2.83267498e-01],\n",
       "        [-2.13371124e-02],\n",
       "        [ 1.89751983e-01],\n",
       "        [ 1.17370047e-01],\n",
       "        [-4.15140055e-02],\n",
       "        [ 1.92038506e-01],\n",
       "        [-1.59222931e-01],\n",
       "        [ 1.54926553e-01],\n",
       "        [-1.17528826e-01],\n",
       "        [ 7.07469657e-02],\n",
       "        [-2.06813648e-01],\n",
       "        [ 2.74634711e-03],\n",
       "        [ 1.09170936e-01],\n",
       "        [ 1.16299704e-01],\n",
       "        [-1.83671452e-02],\n",
       "        [-2.27254018e-01],\n",
       "        [-5.81754895e-04],\n",
       "        [-3.33825089e-02],\n",
       "        [-1.58395380e-01],\n",
       "        [-1.76085323e-01],\n",
       "        [-6.55709878e-02],\n",
       "        [-2.11140931e-01],\n",
       "        [-1.51402354e-01],\n",
       "        [ 1.83145314e-01],\n",
       "        [-3.76036853e-01],\n",
       "        [-9.63037014e-02],\n",
       "        [-1.05022535e-01],\n",
       "        [ 4.49141301e-02],\n",
       "        [ 8.42215195e-02],\n",
       "        [ 2.36306200e-03],\n",
       "        [-1.33009866e-01],\n",
       "        [ 1.42623514e-01],\n",
       "        [ 3.69319282e-02],\n",
       "        [-1.44187855e-02],\n",
       "        [ 1.38517722e-01],\n",
       "        [ 1.17903255e-01],\n",
       "        [-1.76643446e-01],\n",
       "        [ 1.06428646e-01],\n",
       "        [ 2.33155861e-01],\n",
       "        [-1.29234239e-01],\n",
       "        [-2.76465695e-02],\n",
       "        [ 9.96053498e-03],\n",
       "        [ 1.75257266e-01],\n",
       "        [-5.01450785e-02],\n",
       "        [-3.37796479e-01],\n",
       "        [ 1.31727502e-01],\n",
       "        [ 1.16241202e-01],\n",
       "        [-2.91036218e-01],\n",
       "        [-5.40284030e-02],\n",
       "        [-3.00114285e-02],\n",
       "        [-1.90202482e-02],\n",
       "        [-8.72843787e-02],\n",
       "        [-5.41485846e-03],\n",
       "        [-4.82068174e-02],\n",
       "        [-1.22061796e-01],\n",
       "        [-1.31144524e-01],\n",
       "        [ 1.18805803e-01],\n",
       "        [ 7.22671688e-01],\n",
       "        [ 1.86813667e-01],\n",
       "        [ 8.68425816e-02],\n",
       "        [ 3.47885489e-01],\n",
       "        [ 1.76132247e-01],\n",
       "        [-1.61721155e-01],\n",
       "        [ 2.65051723e-01],\n",
       "        [ 1.54685467e-01],\n",
       "        [-8.13648924e-02],\n",
       "        [ 2.38650575e-01],\n",
       "        [ 2.44861335e-01],\n",
       "        [ 1.68792754e-02],\n",
       "        [-9.88150537e-02],\n",
       "        [-1.71169370e-01],\n",
       "        [ 2.08918512e-01],\n",
       "        [ 1.50179937e-01],\n",
       "        [ 4.00060937e-02],\n",
       "        [-8.05552229e-02],\n",
       "        [-2.02509597e-01],\n",
       "        [-1.78263441e-01],\n",
       "        [ 1.56481206e-01],\n",
       "        [ 9.22132432e-02],\n",
       "        [ 1.48445770e-01],\n",
       "        [-1.41757846e-01],\n",
       "        [-2.04237297e-01],\n",
       "        [ 1.42124012e-01],\n",
       "        [-1.66036859e-01],\n",
       "        [-1.84544250e-01],\n",
       "        [ 1.73250586e-01],\n",
       "        [ 1.45785928e-01],\n",
       "        [-1.25395894e-01],\n",
       "        [ 1.10577099e-01],\n",
       "        [-1.78654313e-01],\n",
       "        [ 5.79523528e-03],\n",
       "        [-1.61207885e-01],\n",
       "        [-1.25596430e-02],\n",
       "        [ 1.82440743e-01],\n",
       "        [ 8.11504424e-02],\n",
       "        [-7.15766668e-01],\n",
       "        [-1.15093291e-01],\n",
       "        [-1.41878441e-01],\n",
       "        [-2.06126869e-01],\n",
       "        [ 3.14839110e-02],\n",
       "        [-7.50869438e-02],\n",
       "        [ 2.25135684e-01],\n",
       "        [-1.69484690e-01],\n",
       "        [-1.71370972e-02],\n",
       "        [-1.76820979e-01]], dtype=float32),\n",
       " array([1.5010376], dtype=float32)]"
      ]
     },
     "execution_count": 48,
     "metadata": {},
     "output_type": "execute_result"
    }
   ],
   "source": [
    "model.get_weights()"
   ]
  },
  {
   "cell_type": "code",
   "execution_count": 49,
   "id": "1f171353",
   "metadata": {},
   "outputs": [
    {
     "data": {
      "text/html": [
       "<pre style=\"white-space:pre;overflow-x:auto;line-height:normal;font-family:Menlo,'DejaVu Sans Mono',consolas,'Courier New',monospace\"><span style=\"font-weight: bold\">Model: \"sequential\"</span>\n",
       "</pre>\n"
      ],
      "text/plain": [
       "\u001b[1mModel: \"sequential\"\u001b[0m\n"
      ]
     },
     "metadata": {},
     "output_type": "display_data"
    },
    {
     "data": {
      "text/html": [
       "<pre style=\"white-space:pre;overflow-x:auto;line-height:normal;font-family:Menlo,'DejaVu Sans Mono',consolas,'Courier New',monospace\">┏━━━━━━━━━━━━━━━━━━━━━━━━━━━━━━━━━┳━━━━━━━━━━━━━━━━━━━━━━━━┳━━━━━━━━━━━━━━━┓\n",
       "┃<span style=\"font-weight: bold\"> Layer (type)                    </span>┃<span style=\"font-weight: bold\"> Output Shape           </span>┃<span style=\"font-weight: bold\">       Param # </span>┃\n",
       "┡━━━━━━━━━━━━━━━━━━━━━━━━━━━━━━━━━╇━━━━━━━━━━━━━━━━━━━━━━━━╇━━━━━━━━━━━━━━━┩\n",
       "│ embedding (<span style=\"color: #0087ff; text-decoration-color: #0087ff\">Embedding</span>)           │ (<span style=\"color: #00af00; text-decoration-color: #00af00\">32</span>, <span style=\"color: #00af00; text-decoration-color: #00af00\">500</span>, <span style=\"color: #00af00; text-decoration-color: #00af00\">128</span>)         │     <span style=\"color: #00af00; text-decoration-color: #00af00\">1,280,000</span> │\n",
       "├─────────────────────────────────┼────────────────────────┼───────────────┤\n",
       "│ simple_rnn (<span style=\"color: #0087ff; text-decoration-color: #0087ff\">SimpleRNN</span>)          │ (<span style=\"color: #00af00; text-decoration-color: #00af00\">32</span>, <span style=\"color: #00af00; text-decoration-color: #00af00\">128</span>)              │        <span style=\"color: #00af00; text-decoration-color: #00af00\">32,896</span> │\n",
       "├─────────────────────────────────┼────────────────────────┼───────────────┤\n",
       "│ dense (<span style=\"color: #0087ff; text-decoration-color: #0087ff\">Dense</span>)                   │ (<span style=\"color: #00af00; text-decoration-color: #00af00\">32</span>, <span style=\"color: #00af00; text-decoration-color: #00af00\">1</span>)                │           <span style=\"color: #00af00; text-decoration-color: #00af00\">129</span> │\n",
       "└─────────────────────────────────┴────────────────────────┴───────────────┘\n",
       "</pre>\n"
      ],
      "text/plain": [
       "┏━━━━━━━━━━━━━━━━━━━━━━━━━━━━━━━━━┳━━━━━━━━━━━━━━━━━━━━━━━━┳━━━━━━━━━━━━━━━┓\n",
       "┃\u001b[1m \u001b[0m\u001b[1mLayer (type)                   \u001b[0m\u001b[1m \u001b[0m┃\u001b[1m \u001b[0m\u001b[1mOutput Shape          \u001b[0m\u001b[1m \u001b[0m┃\u001b[1m \u001b[0m\u001b[1m      Param #\u001b[0m\u001b[1m \u001b[0m┃\n",
       "┡━━━━━━━━━━━━━━━━━━━━━━━━━━━━━━━━━╇━━━━━━━━━━━━━━━━━━━━━━━━╇━━━━━━━━━━━━━━━┩\n",
       "│ embedding (\u001b[38;5;33mEmbedding\u001b[0m)           │ (\u001b[38;5;34m32\u001b[0m, \u001b[38;5;34m500\u001b[0m, \u001b[38;5;34m128\u001b[0m)         │     \u001b[38;5;34m1,280,000\u001b[0m │\n",
       "├─────────────────────────────────┼────────────────────────┼───────────────┤\n",
       "│ simple_rnn (\u001b[38;5;33mSimpleRNN\u001b[0m)          │ (\u001b[38;5;34m32\u001b[0m, \u001b[38;5;34m128\u001b[0m)              │        \u001b[38;5;34m32,896\u001b[0m │\n",
       "├─────────────────────────────────┼────────────────────────┼───────────────┤\n",
       "│ dense (\u001b[38;5;33mDense\u001b[0m)                   │ (\u001b[38;5;34m32\u001b[0m, \u001b[38;5;34m1\u001b[0m)                │           \u001b[38;5;34m129\u001b[0m │\n",
       "└─────────────────────────────────┴────────────────────────┴───────────────┘\n"
      ]
     },
     "metadata": {},
     "output_type": "display_data"
    },
    {
     "data": {
      "text/html": [
       "<pre style=\"white-space:pre;overflow-x:auto;line-height:normal;font-family:Menlo,'DejaVu Sans Mono',consolas,'Courier New',monospace\"><span style=\"font-weight: bold\"> Total params: </span><span style=\"color: #00af00; text-decoration-color: #00af00\">1,313,027</span> (5.01 MB)\n",
       "</pre>\n"
      ],
      "text/plain": [
       "\u001b[1m Total params: \u001b[0m\u001b[38;5;34m1,313,027\u001b[0m (5.01 MB)\n"
      ]
     },
     "metadata": {},
     "output_type": "display_data"
    },
    {
     "data": {
      "text/html": [
       "<pre style=\"white-space:pre;overflow-x:auto;line-height:normal;font-family:Menlo,'DejaVu Sans Mono',consolas,'Courier New',monospace\"><span style=\"font-weight: bold\"> Trainable params: </span><span style=\"color: #00af00; text-decoration-color: #00af00\">1,313,025</span> (5.01 MB)\n",
       "</pre>\n"
      ],
      "text/plain": [
       "\u001b[1m Trainable params: \u001b[0m\u001b[38;5;34m1,313,025\u001b[0m (5.01 MB)\n"
      ]
     },
     "metadata": {},
     "output_type": "display_data"
    },
    {
     "data": {
      "text/html": [
       "<pre style=\"white-space:pre;overflow-x:auto;line-height:normal;font-family:Menlo,'DejaVu Sans Mono',consolas,'Courier New',monospace\"><span style=\"font-weight: bold\"> Non-trainable params: </span><span style=\"color: #00af00; text-decoration-color: #00af00\">0</span> (0.00 B)\n",
       "</pre>\n"
      ],
      "text/plain": [
       "\u001b[1m Non-trainable params: \u001b[0m\u001b[38;5;34m0\u001b[0m (0.00 B)\n"
      ]
     },
     "metadata": {},
     "output_type": "display_data"
    },
    {
     "data": {
      "text/html": [
       "<pre style=\"white-space:pre;overflow-x:auto;line-height:normal;font-family:Menlo,'DejaVu Sans Mono',consolas,'Courier New',monospace\"><span style=\"font-weight: bold\"> Optimizer params: </span><span style=\"color: #00af00; text-decoration-color: #00af00\">2</span> (12.00 B)\n",
       "</pre>\n"
      ],
      "text/plain": [
       "\u001b[1m Optimizer params: \u001b[0m\u001b[38;5;34m2\u001b[0m (12.00 B)\n"
      ]
     },
     "metadata": {},
     "output_type": "display_data"
    }
   ],
   "source": [
    "model.summary()"
   ]
  },
  {
   "cell_type": "code",
   "execution_count": 50,
   "id": "e4af1b15",
   "metadata": {},
   "outputs": [],
   "source": [
    "#Step 2: Helper function\n",
    "# Function to decode review\n",
    "\n",
    "def decode_review(encoded_review):\n",
    "    return ' '.join([reverse_word_index.get(i - 3, '?') for i in encoded_review])\n",
    "\n",
    "#Function to preprocess user input\n",
    "\n",
    "def preprocess_text(text):\n",
    "    words = text.lower().split()\n",
    "    encoded_review = [word_index.get(word, 2) + 3 for word in words]\n",
    "    padded_review = sequence.pad_sequences([encoded_review], maxlen=500)\n",
    "    return padded_review"
   ]
  },
  {
   "cell_type": "code",
   "execution_count": 51,
   "id": "c7780b73",
   "metadata": {},
   "outputs": [],
   "source": [
    "### Prediction  function\n",
    "\n",
    "def predict_sentiment(review):\n",
    "    preprocessed_input=preprocess_text(review)\n",
    "\n",
    "    prediction=model.predict(preprocessed_input)\n",
    "\n",
    "    sentiment = 'Positive' if prediction[0][0] > 0.5 else 'Negative'\n",
    "    \n",
    "    return sentiment, prediction[0][0]\n",
    "\n"
   ]
  },
  {
   "cell_type": "code",
   "execution_count": 62,
   "id": "2160f23d",
   "metadata": {},
   "outputs": [
    {
     "name": "stdout",
     "output_type": "stream",
     "text": [
      "\u001b[1m1/1\u001b[0m \u001b[32m━━━━━━━━━━━━━━━━━━━━\u001b[0m\u001b[37m\u001b[0m \u001b[1m0s\u001b[0m 123ms/step\n",
      "Review: This movie is excited\n",
      "Sentiment: Negative\n",
      "Prediction Score: 3.452531233488694e-33\n"
     ]
    }
   ],
   "source": [
    "# Step 4: User Input and Prediction\n",
    "# Example review for prediction\n",
    "example_review = \"This movie is excited\"\n",
    "\n",
    "sentiment,score=predict_sentiment(example_review)\n",
    "\n",
    "print(f'Review: {example_review}')\n",
    "print(f'Sentiment: {sentiment}')\n",
    "print(f'Prediction Score: {score}')"
   ]
  },
  {
   "cell_type": "code",
   "execution_count": null,
   "id": "4430dfd8",
   "metadata": {},
   "outputs": [],
   "source": []
  }
 ],
 "metadata": {
  "kernelspec": {
   "display_name": "Python 3",
   "language": "python",
   "name": "python3"
  },
  "language_info": {
   "codemirror_mode": {
    "name": "ipython",
    "version": 3
   },
   "file_extension": ".py",
   "mimetype": "text/x-python",
   "name": "python",
   "nbconvert_exporter": "python",
   "pygments_lexer": "ipython3",
   "version": "3.11.0"
  }
 },
 "nbformat": 4,
 "nbformat_minor": 5
}
