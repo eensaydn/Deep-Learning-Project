{
 "cells": [
  {
   "cell_type": "code",
   "execution_count": 32,
   "id": "56c41fa3",
   "metadata": {},
   "outputs": [],
   "source": [
    "from tensorflow.keras.preprocessing.text import one_hot"
   ]
  },
  {
   "cell_type": "code",
   "execution_count": 33,
   "id": "7db9d551",
   "metadata": {},
   "outputs": [],
   "source": [
    "### sentences\n",
    "sent=[  'the glass of milk',\n",
    "     'the glass of juice',\n",
    "     'the cup of tea',\n",
    "    'I am a good boy',\n",
    "     'I am a good developer',\n",
    "     'understand the meaning of words',\n",
    "     'your videos are good',]"
   ]
  },
  {
   "cell_type": "code",
   "execution_count": 34,
   "id": "b526a069",
   "metadata": {},
   "outputs": [
    {
     "data": {
      "text/plain": [
       "['the glass of milk',\n",
       " 'the glass of juice',\n",
       " 'the cup of tea',\n",
       " 'I am a good boy',\n",
       " 'I am a good developer',\n",
       " 'understand the meaning of words',\n",
       " 'your videos are good']"
      ]
     },
     "execution_count": 34,
     "metadata": {},
     "output_type": "execute_result"
    }
   ],
   "source": [
    "sent"
   ]
  },
  {
   "cell_type": "code",
   "execution_count": 35,
   "id": "68e6a929",
   "metadata": {},
   "outputs": [],
   "source": [
    "#Define the vocabulary size\n",
    "\n",
    "voc_size = 10000"
   ]
  },
  {
   "cell_type": "code",
   "execution_count": 36,
   "id": "a9b0434e",
   "metadata": {},
   "outputs": [
    {
     "data": {
      "text/plain": [
       "[[873, 7905, 3167, 7211],\n",
       " [873, 7905, 3167, 1338],\n",
       " [873, 5848, 3167, 1755],\n",
       " [7442, 8590, 9972, 7427, 9235],\n",
       " [7442, 8590, 9972, 7427, 6996],\n",
       " [3738, 873, 1192, 3167, 8994],\n",
       " [7682, 6466, 6846, 7427]]"
      ]
     },
     "execution_count": 36,
     "metadata": {},
     "output_type": "execute_result"
    }
   ],
   "source": [
    "#One hot representation\n",
    "one_hot_repr=[one_hot(words,voc_size)for words in sent]\n",
    "one_hot_repr"
   ]
  },
  {
   "cell_type": "code",
   "execution_count": 37,
   "id": "22f497ed",
   "metadata": {},
   "outputs": [],
   "source": [
    "#Word embedding reprensentation\n",
    "from tensorflow.keras.layers import Embedding\n",
    "from tensorflow.keras.utils import pad_sequences\n",
    "from tensorflow.keras.models import Sequential\n",
    "import numpy as np"
   ]
  },
  {
   "cell_type": "code",
   "execution_count": 38,
   "id": "ba97f827",
   "metadata": {},
   "outputs": [
    {
     "name": "stdout",
     "output_type": "stream",
     "text": [
      "[[   0    0    0    0  873 7905 3167 7211]\n",
      " [   0    0    0    0  873 7905 3167 1338]\n",
      " [   0    0    0    0  873 5848 3167 1755]\n",
      " [   0    0    0 7442 8590 9972 7427 9235]\n",
      " [   0    0    0 7442 8590 9972 7427 6996]\n",
      " [   0    0    0 3738  873 1192 3167 8994]\n",
      " [   0    0    0    0 7682 6466 6846 7427]]\n"
     ]
    }
   ],
   "source": [
    "sent_length=8\n",
    "embedded_docs=pad_sequences(one_hot_repr,padding='pre',maxlen=sent_length)\n",
    "print(embedded_docs)"
   ]
  },
  {
   "cell_type": "code",
   "execution_count": 39,
   "id": "e4437294",
   "metadata": {},
   "outputs": [],
   "source": [
    "#Feature representation\n",
    "dim=10"
   ]
  },
  {
   "cell_type": "code",
   "execution_count": 40,
   "id": "a0068231",
   "metadata": {},
   "outputs": [],
   "source": [
    "model=Sequential()\n",
    "model.add(Embedding(input_dim=voc_size,output_dim=dim,input_length=sent_length))\n",
    "model.compile('adam','mse')"
   ]
  },
  {
   "cell_type": "code",
   "execution_count": 43,
   "id": "a5f8fd66",
   "metadata": {},
   "outputs": [
    {
     "data": {
      "text/html": [
       "<pre style=\"white-space:pre;overflow-x:auto;line-height:normal;font-family:Menlo,'DejaVu Sans Mono',consolas,'Courier New',monospace\"><span style=\"font-weight: bold\">Model: \"sequential_4\"</span>\n",
       "</pre>\n"
      ],
      "text/plain": [
       "\u001b[1mModel: \"sequential_4\"\u001b[0m\n"
      ]
     },
     "metadata": {},
     "output_type": "display_data"
    },
    {
     "data": {
      "text/html": [
       "<pre style=\"white-space:pre;overflow-x:auto;line-height:normal;font-family:Menlo,'DejaVu Sans Mono',consolas,'Courier New',monospace\">┏━━━━━━━━━━━━━━━━━━━━━━━━━━━━━━━━━┳━━━━━━━━━━━━━━━━━━━━━━━━┳━━━━━━━━━━━━━━━┓\n",
       "┃<span style=\"font-weight: bold\"> Layer (type)                    </span>┃<span style=\"font-weight: bold\"> Output Shape           </span>┃<span style=\"font-weight: bold\">       Param # </span>┃\n",
       "┡━━━━━━━━━━━━━━━━━━━━━━━━━━━━━━━━━╇━━━━━━━━━━━━━━━━━━━━━━━━╇━━━━━━━━━━━━━━━┩\n",
       "│ embedding_4 (<span style=\"color: #0087ff; text-decoration-color: #0087ff\">Embedding</span>)         │ (<span style=\"color: #00d7ff; text-decoration-color: #00d7ff\">None</span>, <span style=\"color: #00af00; text-decoration-color: #00af00\">8</span>, <span style=\"color: #00af00; text-decoration-color: #00af00\">10</span>)          │       <span style=\"color: #00af00; text-decoration-color: #00af00\">100,000</span> │\n",
       "└─────────────────────────────────┴────────────────────────┴───────────────┘\n",
       "</pre>\n"
      ],
      "text/plain": [
       "┏━━━━━━━━━━━━━━━━━━━━━━━━━━━━━━━━━┳━━━━━━━━━━━━━━━━━━━━━━━━┳━━━━━━━━━━━━━━━┓\n",
       "┃\u001b[1m \u001b[0m\u001b[1mLayer (type)                   \u001b[0m\u001b[1m \u001b[0m┃\u001b[1m \u001b[0m\u001b[1mOutput Shape          \u001b[0m\u001b[1m \u001b[0m┃\u001b[1m \u001b[0m\u001b[1m      Param #\u001b[0m\u001b[1m \u001b[0m┃\n",
       "┡━━━━━━━━━━━━━━━━━━━━━━━━━━━━━━━━━╇━━━━━━━━━━━━━━━━━━━━━━━━╇━━━━━━━━━━━━━━━┩\n",
       "│ embedding_4 (\u001b[38;5;33mEmbedding\u001b[0m)         │ (\u001b[38;5;45mNone\u001b[0m, \u001b[38;5;34m8\u001b[0m, \u001b[38;5;34m10\u001b[0m)          │       \u001b[38;5;34m100,000\u001b[0m │\n",
       "└─────────────────────────────────┴────────────────────────┴───────────────┘\n"
      ]
     },
     "metadata": {},
     "output_type": "display_data"
    },
    {
     "data": {
      "text/html": [
       "<pre style=\"white-space:pre;overflow-x:auto;line-height:normal;font-family:Menlo,'DejaVu Sans Mono',consolas,'Courier New',monospace\"><span style=\"font-weight: bold\"> Total params: </span><span style=\"color: #00af00; text-decoration-color: #00af00\">100,000</span> (390.62 KB)\n",
       "</pre>\n"
      ],
      "text/plain": [
       "\u001b[1m Total params: \u001b[0m\u001b[38;5;34m100,000\u001b[0m (390.62 KB)\n"
      ]
     },
     "metadata": {},
     "output_type": "display_data"
    },
    {
     "data": {
      "text/html": [
       "<pre style=\"white-space:pre;overflow-x:auto;line-height:normal;font-family:Menlo,'DejaVu Sans Mono',consolas,'Courier New',monospace\"><span style=\"font-weight: bold\"> Trainable params: </span><span style=\"color: #00af00; text-decoration-color: #00af00\">100,000</span> (390.62 KB)\n",
       "</pre>\n"
      ],
      "text/plain": [
       "\u001b[1m Trainable params: \u001b[0m\u001b[38;5;34m100,000\u001b[0m (390.62 KB)\n"
      ]
     },
     "metadata": {},
     "output_type": "display_data"
    },
    {
     "data": {
      "text/html": [
       "<pre style=\"white-space:pre;overflow-x:auto;line-height:normal;font-family:Menlo,'DejaVu Sans Mono',consolas,'Courier New',monospace\"><span style=\"font-weight: bold\"> Non-trainable params: </span><span style=\"color: #00af00; text-decoration-color: #00af00\">0</span> (0.00 B)\n",
       "</pre>\n"
      ],
      "text/plain": [
       "\u001b[1m Non-trainable params: \u001b[0m\u001b[38;5;34m0\u001b[0m (0.00 B)\n"
      ]
     },
     "metadata": {},
     "output_type": "display_data"
    }
   ],
   "source": [
    "model.build(input_shape=(None, sent_length))\n",
    "model.summary()\n"
   ]
  },
  {
   "cell_type": "code",
   "execution_count": 51,
   "id": "dc90e301",
   "metadata": {},
   "outputs": [
    {
     "name": "stdout",
     "output_type": "stream",
     "text": [
      "\u001b[1m1/1\u001b[0m \u001b[32m━━━━━━━━━━━━━━━━━━━━\u001b[0m\u001b[37m\u001b[0m \u001b[1m7s\u001b[0m 7s/step\n"
     ]
    },
    {
     "data": {
      "text/plain": [
       "array([[[ 0.00631131, -0.02472417,  0.02781406, -0.03017596,\n",
       "         -0.0240024 , -0.00967314,  0.04742329, -0.04267624,\n",
       "         -0.01953292, -0.00551572],\n",
       "        [ 0.00631131, -0.02472417,  0.02781406, -0.03017596,\n",
       "         -0.0240024 , -0.00967314,  0.04742329, -0.04267624,\n",
       "         -0.01953292, -0.00551572],\n",
       "        [ 0.00631131, -0.02472417,  0.02781406, -0.03017596,\n",
       "         -0.0240024 , -0.00967314,  0.04742329, -0.04267624,\n",
       "         -0.01953292, -0.00551572],\n",
       "        [ 0.00631131, -0.02472417,  0.02781406, -0.03017596,\n",
       "         -0.0240024 , -0.00967314,  0.04742329, -0.04267624,\n",
       "         -0.01953292, -0.00551572],\n",
       "        [-0.00046655, -0.03040663, -0.04470432, -0.00493444,\n",
       "          0.00192796,  0.03575547,  0.04660046, -0.02842805,\n",
       "         -0.01888347, -0.0463462 ],\n",
       "        [-0.03019087,  0.04999674, -0.04200735, -0.01297283,\n",
       "          0.02265311,  0.02156099,  0.03035388,  0.00427235,\n",
       "          0.02857793, -0.03496965],\n",
       "        [-0.02539612,  0.0431619 , -0.01024552,  0.02317891,\n",
       "          0.04075953,  0.02282229, -0.04844126, -0.01329062,\n",
       "          0.02611412, -0.0470072 ],\n",
       "        [-0.00010148, -0.00343625,  0.01372217, -0.00244642,\n",
       "         -0.02546263, -0.04574582, -0.04930697, -0.00921666,\n",
       "          0.01713223, -0.0237529 ]],\n",
       "\n",
       "       [[ 0.00631131, -0.02472417,  0.02781406, -0.03017596,\n",
       "         -0.0240024 , -0.00967314,  0.04742329, -0.04267624,\n",
       "         -0.01953292, -0.00551572],\n",
       "        [ 0.00631131, -0.02472417,  0.02781406, -0.03017596,\n",
       "         -0.0240024 , -0.00967314,  0.04742329, -0.04267624,\n",
       "         -0.01953292, -0.00551572],\n",
       "        [ 0.00631131, -0.02472417,  0.02781406, -0.03017596,\n",
       "         -0.0240024 , -0.00967314,  0.04742329, -0.04267624,\n",
       "         -0.01953292, -0.00551572],\n",
       "        [ 0.00631131, -0.02472417,  0.02781406, -0.03017596,\n",
       "         -0.0240024 , -0.00967314,  0.04742329, -0.04267624,\n",
       "         -0.01953292, -0.00551572],\n",
       "        [-0.00046655, -0.03040663, -0.04470432, -0.00493444,\n",
       "          0.00192796,  0.03575547,  0.04660046, -0.02842805,\n",
       "         -0.01888347, -0.0463462 ],\n",
       "        [-0.03019087,  0.04999674, -0.04200735, -0.01297283,\n",
       "          0.02265311,  0.02156099,  0.03035388,  0.00427235,\n",
       "          0.02857793, -0.03496965],\n",
       "        [-0.02539612,  0.0431619 , -0.01024552,  0.02317891,\n",
       "          0.04075953,  0.02282229, -0.04844126, -0.01329062,\n",
       "          0.02611412, -0.0470072 ],\n",
       "        [-0.00285455,  0.04428181, -0.02913839,  0.01683852,\n",
       "         -0.02790442, -0.0165939 ,  0.04312113, -0.02955096,\n",
       "          0.00033338,  0.02605622]],\n",
       "\n",
       "       [[ 0.00631131, -0.02472417,  0.02781406, -0.03017596,\n",
       "         -0.0240024 , -0.00967314,  0.04742329, -0.04267624,\n",
       "         -0.01953292, -0.00551572],\n",
       "        [ 0.00631131, -0.02472417,  0.02781406, -0.03017596,\n",
       "         -0.0240024 , -0.00967314,  0.04742329, -0.04267624,\n",
       "         -0.01953292, -0.00551572],\n",
       "        [ 0.00631131, -0.02472417,  0.02781406, -0.03017596,\n",
       "         -0.0240024 , -0.00967314,  0.04742329, -0.04267624,\n",
       "         -0.01953292, -0.00551572],\n",
       "        [ 0.00631131, -0.02472417,  0.02781406, -0.03017596,\n",
       "         -0.0240024 , -0.00967314,  0.04742329, -0.04267624,\n",
       "         -0.01953292, -0.00551572],\n",
       "        [-0.00046655, -0.03040663, -0.04470432, -0.00493444,\n",
       "          0.00192796,  0.03575547,  0.04660046, -0.02842805,\n",
       "         -0.01888347, -0.0463462 ],\n",
       "        [-0.01174347,  0.03339508,  0.02551952,  0.00666002,\n",
       "         -0.03715605, -0.04627583, -0.03441716,  0.00168408,\n",
       "          0.02231144,  0.03750132],\n",
       "        [-0.02539612,  0.0431619 , -0.01024552,  0.02317891,\n",
       "          0.04075953,  0.02282229, -0.04844126, -0.01329062,\n",
       "          0.02611412, -0.0470072 ],\n",
       "        [ 0.00749815,  0.01542843,  0.03005807,  0.02359113,\n",
       "         -0.04527925, -0.02686402,  0.03173226, -0.02242267,\n",
       "          0.0201523 ,  0.00865896]],\n",
       "\n",
       "       [[ 0.00631131, -0.02472417,  0.02781406, -0.03017596,\n",
       "         -0.0240024 , -0.00967314,  0.04742329, -0.04267624,\n",
       "         -0.01953292, -0.00551572],\n",
       "        [ 0.00631131, -0.02472417,  0.02781406, -0.03017596,\n",
       "         -0.0240024 , -0.00967314,  0.04742329, -0.04267624,\n",
       "         -0.01953292, -0.00551572],\n",
       "        [ 0.00631131, -0.02472417,  0.02781406, -0.03017596,\n",
       "         -0.0240024 , -0.00967314,  0.04742329, -0.04267624,\n",
       "         -0.01953292, -0.00551572],\n",
       "        [-0.04845348,  0.03662899,  0.02978374, -0.02026829,\n",
       "         -0.03927034, -0.00655632, -0.04263598, -0.0004719 ,\n",
       "          0.01096223, -0.010031  ],\n",
       "        [ 0.03545977, -0.01376264,  0.04354367,  0.01765606,\n",
       "          0.0434263 ,  0.02497194, -0.0251644 , -0.02778385,\n",
       "          0.02207595, -0.01411992],\n",
       "        [-0.00914179, -0.04314783,  0.03469285,  0.02088933,\n",
       "          0.00909692, -0.02971336,  0.0042114 ,  0.00743115,\n",
       "         -0.03471537, -0.02514519],\n",
       "        [-0.03765392, -0.03886944,  0.02180758, -0.03012897,\n",
       "         -0.04616598,  0.00755948,  0.00279212, -0.00542103,\n",
       "          0.01767495, -0.02308639],\n",
       "        [ 0.02495248,  0.01737151, -0.01856001, -0.0167513 ,\n",
       "          0.00256302,  0.01122974, -0.0086547 , -0.02023184,\n",
       "         -0.0216755 , -0.04360968]],\n",
       "\n",
       "       [[ 0.00631131, -0.02472417,  0.02781406, -0.03017596,\n",
       "         -0.0240024 , -0.00967314,  0.04742329, -0.04267624,\n",
       "         -0.01953292, -0.00551572],\n",
       "        [ 0.00631131, -0.02472417,  0.02781406, -0.03017596,\n",
       "         -0.0240024 , -0.00967314,  0.04742329, -0.04267624,\n",
       "         -0.01953292, -0.00551572],\n",
       "        [ 0.00631131, -0.02472417,  0.02781406, -0.03017596,\n",
       "         -0.0240024 , -0.00967314,  0.04742329, -0.04267624,\n",
       "         -0.01953292, -0.00551572],\n",
       "        [-0.04845348,  0.03662899,  0.02978374, -0.02026829,\n",
       "         -0.03927034, -0.00655632, -0.04263598, -0.0004719 ,\n",
       "          0.01096223, -0.010031  ],\n",
       "        [ 0.03545977, -0.01376264,  0.04354367,  0.01765606,\n",
       "          0.0434263 ,  0.02497194, -0.0251644 , -0.02778385,\n",
       "          0.02207595, -0.01411992],\n",
       "        [-0.00914179, -0.04314783,  0.03469285,  0.02088933,\n",
       "          0.00909692, -0.02971336,  0.0042114 ,  0.00743115,\n",
       "         -0.03471537, -0.02514519],\n",
       "        [-0.03765392, -0.03886944,  0.02180758, -0.03012897,\n",
       "         -0.04616598,  0.00755948,  0.00279212, -0.00542103,\n",
       "          0.01767495, -0.02308639],\n",
       "        [ 0.03369902, -0.01417551, -0.00483333, -0.03160298,\n",
       "          0.04679275,  0.03732337, -0.02197241, -0.02153566,\n",
       "          0.00804036, -0.01084899]],\n",
       "\n",
       "       [[ 0.00631131, -0.02472417,  0.02781406, -0.03017596,\n",
       "         -0.0240024 , -0.00967314,  0.04742329, -0.04267624,\n",
       "         -0.01953292, -0.00551572],\n",
       "        [ 0.00631131, -0.02472417,  0.02781406, -0.03017596,\n",
       "         -0.0240024 , -0.00967314,  0.04742329, -0.04267624,\n",
       "         -0.01953292, -0.00551572],\n",
       "        [ 0.00631131, -0.02472417,  0.02781406, -0.03017596,\n",
       "         -0.0240024 , -0.00967314,  0.04742329, -0.04267624,\n",
       "         -0.01953292, -0.00551572],\n",
       "        [ 0.00496665,  0.02945486, -0.00088184,  0.01458358,\n",
       "          0.03701638, -0.04725033, -0.0408662 , -0.03641727,\n",
       "          0.0214645 ,  0.02452079],\n",
       "        [-0.00046655, -0.03040663, -0.04470432, -0.00493444,\n",
       "          0.00192796,  0.03575547,  0.04660046, -0.02842805,\n",
       "         -0.01888347, -0.0463462 ],\n",
       "        [ 0.00242016, -0.00489693, -0.02160664,  0.04125911,\n",
       "         -0.00385231,  0.00546562,  0.00147784,  0.04875462,\n",
       "         -0.01621512,  0.02387046],\n",
       "        [-0.02539612,  0.0431619 , -0.01024552,  0.02317891,\n",
       "          0.04075953,  0.02282229, -0.04844126, -0.01329062,\n",
       "          0.02611412, -0.0470072 ],\n",
       "        [-0.02604285,  0.0103976 , -0.00596581,  0.01552767,\n",
       "          0.0364496 , -0.02348989, -0.04568731, -0.03331152,\n",
       "          0.01655601,  0.01459164]],\n",
       "\n",
       "       [[ 0.00631131, -0.02472417,  0.02781406, -0.03017596,\n",
       "         -0.0240024 , -0.00967314,  0.04742329, -0.04267624,\n",
       "         -0.01953292, -0.00551572],\n",
       "        [ 0.00631131, -0.02472417,  0.02781406, -0.03017596,\n",
       "         -0.0240024 , -0.00967314,  0.04742329, -0.04267624,\n",
       "         -0.01953292, -0.00551572],\n",
       "        [ 0.00631131, -0.02472417,  0.02781406, -0.03017596,\n",
       "         -0.0240024 , -0.00967314,  0.04742329, -0.04267624,\n",
       "         -0.01953292, -0.00551572],\n",
       "        [ 0.00631131, -0.02472417,  0.02781406, -0.03017596,\n",
       "         -0.0240024 , -0.00967314,  0.04742329, -0.04267624,\n",
       "         -0.01953292, -0.00551572],\n",
       "        [-0.04625034, -0.00901783,  0.00499996,  0.03552835,\n",
       "         -0.03472065, -0.0226925 , -0.03227582, -0.02282919,\n",
       "          0.03932153, -0.01413176],\n",
       "        [ 0.00660677,  0.04330907, -0.00230239, -0.02104024,\n",
       "          0.04978238,  0.03459884,  0.01405836, -0.01701717,\n",
       "          0.01988566, -0.01393461],\n",
       "        [-0.02204583,  0.04731591, -0.02846457, -0.00680389,\n",
       "         -0.02499791, -0.0062801 , -0.00111005, -0.02224356,\n",
       "          0.03282126,  0.04094119],\n",
       "        [-0.03765392, -0.03886944,  0.02180758, -0.03012897,\n",
       "         -0.04616598,  0.00755948,  0.00279212, -0.00542103,\n",
       "          0.01767495, -0.02308639]]], dtype=float32)"
      ]
     },
     "execution_count": 51,
     "metadata": {},
     "output_type": "execute_result"
    }
   ],
   "source": [
    "model.predict(embedded_docs)"
   ]
  },
  {
   "cell_type": "code",
   "execution_count": 48,
   "id": "66b02eb6",
   "metadata": {},
   "outputs": [
    {
     "data": {
      "text/plain": [
       "array([   0,    0,    0,    0,  873, 7905, 3167, 7211])"
      ]
     },
     "execution_count": 48,
     "metadata": {},
     "output_type": "execute_result"
    }
   ],
   "source": [
    "embedded_docs[0]"
   ]
  },
  {
   "cell_type": "code",
   "execution_count": 50,
   "id": "d712cd55",
   "metadata": {},
   "outputs": [
    {
     "ename": "IndexError",
     "evalue": "tuple index out of range",
     "output_type": "error",
     "traceback": [
      "\u001b[31m---------------------------------------------------------------------------\u001b[39m",
      "\u001b[31mIndexError\u001b[39m                                Traceback (most recent call last)",
      "\u001b[36mCell\u001b[39m\u001b[36m \u001b[39m\u001b[32mIn[50]\u001b[39m\u001b[32m, line 1\u001b[39m\n\u001b[32m----> \u001b[39m\u001b[32m1\u001b[39m \u001b[43mmodel\u001b[49m\u001b[43m.\u001b[49m\u001b[43mpredict\u001b[49m\u001b[43m(\u001b[49m\u001b[43membedded_docs\u001b[49m\u001b[43m[\u001b[49m\u001b[32;43m0\u001b[39;49m\u001b[43m]\u001b[49m\u001b[43m[\u001b[49m\u001b[32;43m0\u001b[39;49m\u001b[43m]\u001b[49m\u001b[43m)\u001b[49m\n",
      "\u001b[36mFile \u001b[39m\u001b[32md:\\PYTHON\\ANN_CLASS_PROJECT\\venv\\Lib\\site-packages\\keras\\src\\utils\\traceback_utils.py:122\u001b[39m, in \u001b[36mfilter_traceback.<locals>.error_handler\u001b[39m\u001b[34m(*args, **kwargs)\u001b[39m\n\u001b[32m    119\u001b[39m     filtered_tb = _process_traceback_frames(e.__traceback__)\n\u001b[32m    120\u001b[39m     \u001b[38;5;66;03m# To get the full stack trace, call:\u001b[39;00m\n\u001b[32m    121\u001b[39m     \u001b[38;5;66;03m# `keras.config.disable_traceback_filtering()`\u001b[39;00m\n\u001b[32m--> \u001b[39m\u001b[32m122\u001b[39m     \u001b[38;5;28;01mraise\u001b[39;00m e.with_traceback(filtered_tb) \u001b[38;5;28;01mfrom\u001b[39;00m\u001b[38;5;250m \u001b[39m\u001b[38;5;28;01mNone\u001b[39;00m\n\u001b[32m    123\u001b[39m \u001b[38;5;28;01mfinally\u001b[39;00m:\n\u001b[32m    124\u001b[39m     \u001b[38;5;28;01mdel\u001b[39;00m filtered_tb\n",
      "\u001b[36mFile \u001b[39m\u001b[32md:\\PYTHON\\ANN_CLASS_PROJECT\\venv\\Lib\\site-packages\\keras\\src\\trainers\\data_adapters\\data_adapter_utils.py:104\u001b[39m, in \u001b[36m<genexpr>\u001b[39m\u001b[34m(.0)\u001b[39m\n\u001b[32m    103\u001b[39m \u001b[38;5;28;01mdef\u001b[39;00m\u001b[38;5;250m \u001b[39m\u001b[34mcheck_data_cardinality\u001b[39m(data):\n\u001b[32m--> \u001b[39m\u001b[32m104\u001b[39m     num_samples = \u001b[38;5;28mset\u001b[39m(\u001b[38;5;28mint\u001b[39m(\u001b[43mi\u001b[49m\u001b[43m.\u001b[49m\u001b[43mshape\u001b[49m\u001b[43m[\u001b[49m\u001b[32;43m0\u001b[39;49m\u001b[43m]\u001b[49m) \u001b[38;5;28;01mfor\u001b[39;00m i \u001b[38;5;129;01min\u001b[39;00m tree.flatten(data))\n\u001b[32m    105\u001b[39m     \u001b[38;5;28;01mif\u001b[39;00m \u001b[38;5;28mlen\u001b[39m(num_samples) > \u001b[32m1\u001b[39m:\n\u001b[32m    106\u001b[39m         msg = (\n\u001b[32m    107\u001b[39m             \u001b[33m\"\u001b[39m\u001b[33mData cardinality is ambiguous. \u001b[39m\u001b[33m\"\u001b[39m\n\u001b[32m    108\u001b[39m             \u001b[33m\"\u001b[39m\u001b[33mMake sure all arrays contain the same number of samples.\u001b[39m\u001b[33m\"\u001b[39m\n\u001b[32m    109\u001b[39m         )\n",
      "\u001b[31mIndexError\u001b[39m: tuple index out of range"
     ]
    }
   ],
   "source": [
    "model.predict(embedded_docs[0][0])"
   ]
  },
  {
   "cell_type": "code",
   "execution_count": null,
   "id": "29d34d91",
   "metadata": {},
   "outputs": [],
   "source": []
  }
 ],
 "metadata": {
  "kernelspec": {
   "display_name": "Python 3",
   "language": "python",
   "name": "python3"
  },
  "language_info": {
   "codemirror_mode": {
    "name": "ipython",
    "version": 3
   },
   "file_extension": ".py",
   "mimetype": "text/x-python",
   "name": "python",
   "nbconvert_exporter": "python",
   "pygments_lexer": "ipython3",
   "version": "3.11.0"
  }
 },
 "nbformat": 4,
 "nbformat_minor": 5
}
